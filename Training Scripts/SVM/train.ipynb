{
 "cells": [
  {
   "cell_type": "code",
   "execution_count": 5,
   "metadata": {},
   "outputs": [],
   "source": [
    "import os\n",
    "import string\n",
    "import re\n",
    "import nltk\n",
    "import numpy as np\n",
    "import joblib\n",
    "from nltk.corpus import stopwords\n",
    "from nltk.stem import ISRIStemmer\n",
    "from sklearn.feature_extraction.text import CountVectorizer\n",
    "from sklearn.model_selection import train_test_split\n",
    "from sklearn.svm import SVC\n",
    "from sklearn.metrics import accuracy_score, precision_score, recall_score, f1_score"
   ]
  },
  {
   "cell_type": "code",
   "execution_count": 10,
   "metadata": {},
   "outputs": [
    {
     "name": "stdout",
     "output_type": "stream",
     "text": [
      "Not Found\n"
     ]
    }
   ],
   "source": [
    "stemmer = ISRIStemmer()\n",
    "tokenizer = nltk.RegexpTokenizer(r\"\\w+\")\n",
    "\n",
    "if os.path.exists(\"Stopwords/Stopwords_List.txt\"):\n",
    "    with open(\"./Stopwords/Stopwords_List.txt\", \"r\", encoding=\"utf-8\") as f:\n",
    "        arabic_stopwords = set(f.read().splitlines())\n",
    "else:\n",
    "    print(\"Not Found\")\n",
    "\n",
    "dataset_folders = {\n",
    "    \"Politics\": \"Dataset/Train/Politics\",\n",
    "    \"Entertainment\": \"Dataset/Train/Entertainment\",\n",
    "    \"Economy\": \"Dataset/Train/Economy\",\n",
    "    \"Sports\": \"Dataset/Train/Sports\"\n",
    "}"
   ]
  },
  {
   "cell_type": "code",
   "execution_count": null,
   "metadata": {},
   "outputs": [],
   "source": [
    "def Tokenize_Categories(text):\n",
    "    text = re.sub(r'[^\\u0600-\\u06FF\\u0750-\\u077F\\u08A0-\\u08FF]+', ' ', text)\n",
    "    tokens = tokenizer.tokenize(text)\n",
    "    tokens = [token for token in tokens if token not in arabic_stopwords]\n",
    "    tokens = [stemmer.stem(token) for token in tokens]\n",
    "    tokens = [token.translate(str.maketrans(\"\", \"\", string.punctuation)) for token in tokens]\n",
    "    tokens = [token for token in tokens if not token.isdigit()]\n",
    "    tokens = [token for token in tokens if token]\n",
    "    return \" \".join(tokens)"
   ]
  },
  {
   "cell_type": "code",
   "execution_count": null,
   "metadata": {},
   "outputs": [],
   "source": [
    "texts = {}\n",
    "for category, folder in dataset_folders.items():\n",
    "    texts[category] = []\n",
    "    for filename in os.listdir(folder):\n",
    "        with open(os.path.join(folder, filename), \"r\", encoding=\"utf-8\") as f:\n",
    "            text = f.read()\n",
    "            tokens = Tokenize_Categories(text)\n",
    "            texts[category].append(tokens)"
   ]
  },
  {
   "cell_type": "code",
   "execution_count": null,
   "metadata": {},
   "outputs": [],
   "source": [
    "all_texts = []\n",
    "all_labels = []\n",
    "for category, category_texts in texts.items():\n",
    "    all_texts.extend(category_texts)\n",
    "    all_labels.extend([category] * len(category_texts))\n",
    "\n",
    "train_texts, test_texts, train_labels, test_labels = train_test_split(all_texts, all_labels, test_size=0.2, random_state=42)"
   ]
  },
  {
   "cell_type": "code",
   "execution_count": null,
   "metadata": {},
   "outputs": [],
   "source": [
    "vectorizer = CountVectorizer(tokenizer=Tokenize_Categories)\n",
    "train_data = vectorizer.fit_transform(train_texts)\n",
    "test_data = vectorizer.transform(test_texts)"
   ]
  },
  {
   "cell_type": "code",
   "execution_count": null,
   "metadata": {},
   "outputs": [],
   "source": [
    "label_to_index = {label: index for index, label in enumerate(set(all_labels))}\n",
    "train_labels = [label_to_index[label] for label in train_labels]\n",
    "test_labels = [label_to_index[label] for label in test_labels]\n"
   ]
  },
  {
   "cell_type": "code",
   "execution_count": null,
   "metadata": {},
   "outputs": [],
   "source": [
    "svm_params = {\n",
    "    \"C\": 1.0,\n",
    "    \"kernel\": \"linear\",\n",
    "    \"class_weight\": \"balanced\"\n",
    "}"
   ]
  },
  {
   "cell_type": "code",
   "execution_count": null,
   "metadata": {},
   "outputs": [],
   "source": [
    "svm_model = SVC(**svm_params)\n",
    "svm_model.fit(train_data, train_labels)\n",
    "\n",
    "test_predictions = svm_model.predict(test_data)\n",
    "\n",
    "joblib.dump(svm_model, \"svm_model.pkl\")\n",
    "print(\"Test accuracy:\", accuracy_score(test_labels, test_predictions))\n",
    "print(\"Test precision:\", precision_score(test_labels, test_predictions, average=\"macro\"))\n",
    "print(\"Test recall:\", recall_score(test_labels, test_predictions, average=\"macro\"))\n",
    "print(\"Test f1 score:\", f1_score(test_labels, test_predictions, average=\"macro\"))"
   ]
  }
 ],
 "metadata": {
  "kernelspec": {
   "display_name": "directmltf2",
   "language": "python",
   "name": "python3"
  },
  "language_info": {
   "codemirror_mode": {
    "name": "ipython",
    "version": 3
   },
   "file_extension": ".py",
   "mimetype": "text/x-python",
   "name": "python",
   "nbconvert_exporter": "python",
   "pygments_lexer": "ipython3",
   "version": "3.8.16"
  },
  "orig_nbformat": 4
 },
 "nbformat": 4,
 "nbformat_minor": 2
}
